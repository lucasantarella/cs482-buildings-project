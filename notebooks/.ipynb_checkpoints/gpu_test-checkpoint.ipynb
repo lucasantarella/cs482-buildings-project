{
 "cells": [
  {
   "cell_type": "code",
   "execution_count": 1,
   "id": "24a323d7",
   "metadata": {},
   "outputs": [
    {
     "name": "stderr",
     "output_type": "stream",
     "text": [
      "2023-07-16 17:42:48.665368: I tensorflow/core/util/port.cc:110] oneDNN custom operations are on. You may see slightly different numerical results due to floating-point round-off errors from different computation orders. To turn them off, set the environment variable `TF_ENABLE_ONEDNN_OPTS=0`.\n",
      "2023-07-16 17:42:48.687403: I tensorflow/core/platform/cpu_feature_guard.cc:182] This TensorFlow binary is optimized to use available CPU instructions in performance-critical operations.\n",
      "To enable the following instructions: AVX2 AVX_VNNI FMA, in other operations, rebuild TensorFlow with the appropriate compiler flags.\n",
      "2023-07-16 17:42:49.047478: W tensorflow/compiler/tf2tensorrt/utils/py_utils.cc:38] TF-TRT Warning: Could not find TensorRT\n"
     ]
    },
    {
     "name": "stdout",
     "output_type": "stream",
     "text": [
      "Num GPUs Available:  1\n"
     ]
    },
    {
     "name": "stderr",
     "output_type": "stream",
     "text": [
      "2023-07-16 17:42:49.435094: I tensorflow/compiler/xla/stream_executor/cuda/cuda_gpu_executor.cc:995] successful NUMA node read from SysFS had negative value (-1), but there must be at least one NUMA node, so returning NUMA node zero. See more at https://github.com/torvalds/linux/blob/v6.0/Documentation/ABI/testing/sysfs-bus-pci#L344-L355\n",
      "2023-07-16 17:42:49.449626: I tensorflow/compiler/xla/stream_executor/cuda/cuda_gpu_executor.cc:995] successful NUMA node read from SysFS had negative value (-1), but there must be at least one NUMA node, so returning NUMA node zero. See more at https://github.com/torvalds/linux/blob/v6.0/Documentation/ABI/testing/sysfs-bus-pci#L344-L355\n",
      "2023-07-16 17:42:49.449716: I tensorflow/compiler/xla/stream_executor/cuda/cuda_gpu_executor.cc:995] successful NUMA node read from SysFS had negative value (-1), but there must be at least one NUMA node, so returning NUMA node zero. See more at https://github.com/torvalds/linux/blob/v6.0/Documentation/ABI/testing/sysfs-bus-pci#L344-L355\n"
     ]
    },
    {
     "data": {
      "text/plain": [
       "OrderedDict([('cpu_compiler', '/usr/lib/llvm-16/bin/clang'),\n",
       "             ('cuda_compute_capabilities',\n",
       "              ['sm_35', 'sm_50', 'sm_60', 'sm_70', 'sm_75', 'compute_80']),\n",
       "             ('cuda_version', '11.8'),\n",
       "             ('cudnn_version', '8'),\n",
       "             ('is_cuda_build', True),\n",
       "             ('is_rocm_build', False),\n",
       "             ('is_tensorrt_build', True)])"
      ]
     },
     "execution_count": 1,
     "metadata": {},
     "output_type": "execute_result"
    }
   ],
   "source": [
    "import tensorflow as tf\n",
    "print(\"Num GPUs Available: \", len(tf.config.list_physical_devices('GPU')))\n",
    "tf.sysconfig.get_build_info() "
   ]
  },
  {
   "cell_type": "code",
   "execution_count": 2,
   "id": "8eb56469",
   "metadata": {},
   "outputs": [
    {
     "name": "stdout",
     "output_type": "stream",
     "text": [
      "Sun Jul 16 17:42:50 2023       \r\n",
      "+-----------------------------------------------------------------------------+\r\n",
      "| NVIDIA-SMI 520.61.05    Driver Version: 520.61.05    CUDA Version: 11.8     |\r\n",
      "|-------------------------------+----------------------+----------------------+\r\n",
      "| GPU  Name        Persistence-M| Bus-Id        Disp.A | Volatile Uncorr. ECC |\r\n",
      "| Fan  Temp  Perf  Pwr:Usage/Cap|         Memory-Usage | GPU-Util  Compute M. |\r\n",
      "|                               |                      |               MIG M. |\r\n",
      "|===============================+======================+======================|\r\n",
      "|   0  NVIDIA GeForce ...  On   | 00000000:01:00.0  On |                  N/A |\r\n",
      "|  0%   39C    P8    20W / 290W |    640MiB /  8192MiB |      0%      Default |\r\n",
      "|                               |                      |                  N/A |\r\n",
      "+-------------------------------+----------------------+----------------------+\r\n",
      "                                                                               \r\n",
      "+-----------------------------------------------------------------------------+\r\n",
      "| Processes:                                                                  |\r\n",
      "|  GPU   GI   CI        PID   Type   Process name                  GPU Memory |\r\n",
      "|        ID   ID                                                   Usage      |\r\n",
      "|=============================================================================|\r\n",
      "+-----------------------------------------------------------------------------+\r\n"
     ]
    }
   ],
   "source": [
    "!nvidia-smi"
   ]
  },
  {
   "cell_type": "code",
   "execution_count": 3,
   "id": "2d75bb29",
   "metadata": {},
   "outputs": [
    {
     "name": "stdout",
     "output_type": "stream",
     "text": [
      "ii  cuda-cccl-11-8                   11.8.89-1                               amd64        CUDA CCCL\r\n",
      "ii  cuda-command-line-tools-11-8     11.8.0-1                                amd64        CUDA command-line tools\r\n",
      "ii  cuda-compat-11-8                 520.61.05-1                             amd64        CUDA Compatibility Platform\r\n",
      "ii  cuda-compiler-11-8               11.8.0-1                                amd64        CUDA compiler\r\n",
      "ii  cuda-cudart-11-8                 11.8.89-1                               amd64        CUDA Runtime native Libraries\r\n",
      "ii  cuda-cudart-dev-11-8             11.8.89-1                               amd64        CUDA Runtime native dev links, headers\r\n",
      "ii  cuda-cuobjdump-11-8              11.8.86-1                               amd64        CUDA cuobjdump\r\n",
      "ii  cuda-cupti-11-8                  11.8.87-1                               amd64        CUDA profiling tools runtime libs.\r\n",
      "ii  cuda-cupti-dev-11-8              11.8.87-1                               amd64        CUDA profiling tools interface.\r\n",
      "ii  cuda-cuxxfilt-11-8               11.8.86-1                               amd64        CUDA cuxxfilt\r\n",
      "ii  cuda-driver-dev-11-8             11.8.89-1                               amd64        CUDA Driver native dev stub library\r\n",
      "ii  cuda-gdb-11-8                    11.8.86-1                               amd64        CUDA-GDB\r\n",
      "ii  cuda-keyring                     1.1-1                                   all          GPG keyring for the CUDA repository\r\n",
      "ii  cuda-libraries-11-8              11.8.0-1                                amd64        CUDA Libraries 11.8 meta-package\r\n",
      "ii  cuda-libraries-dev-11-8          11.8.0-1                                amd64        CUDA Libraries 11.8 development meta-package\r\n",
      "ii  cuda-memcheck-11-8               11.8.86-1                               amd64        CUDA-MEMCHECK\r\n",
      "ii  cuda-minimal-build-11-8          11.8.0-1                                amd64        Minimal CUDA 11.8 toolkit build packages.\r\n",
      "ii  cuda-nsight-compute-11-8         11.8.0-1                                amd64        NVIDIA Nsight Compute\r\n",
      "ii  cuda-nvcc-11-8                   11.8.89-1                               amd64        CUDA nvcc\r\n",
      "ii  cuda-nvdisasm-11-8               11.8.86-1                               amd64        CUDA disassembler\r\n",
      "ii  cuda-nvml-dev-11-8               11.8.86-1                               amd64        NVML native dev links, headers\r\n",
      "ii  cuda-nvprof-11-8                 11.8.87-1                               amd64        CUDA Profiler tools\r\n",
      "ii  cuda-nvprune-11-8                11.8.86-1                               amd64        CUDA nvprune\r\n",
      "ii  cuda-nvrtc-11-8                  11.8.89-1                               amd64        NVRTC native runtime libraries\r\n",
      "ii  cuda-nvrtc-dev-11-8              11.8.89-1                               amd64        NVRTC native dev links, headers\r\n",
      "ii  cuda-nvtx-11-8                   11.8.86-1                               amd64        NVIDIA Tools Extension\r\n",
      "ii  cuda-profiler-api-11-8           11.8.86-1                               amd64        CUDA Profiler API\r\n",
      "ii  cuda-sanitizer-11-8              11.8.86-1                               amd64        CUDA Sanitizer\r\n",
      "ii  cuda-toolkit-11-8-config-common  11.8.89-1                               all          Common config package for CUDA Toolkit 11.8.\r\n",
      "ii  cuda-toolkit-11-config-common    11.8.89-1                               all          Common config package for CUDA Toolkit 11.\r\n",
      "ii  cuda-toolkit-config-common       12.2.53-1                               all          Common config package for CUDA Toolkit.\r\n",
      "hi  libcudnn8                        8.9.0.131-1+cuda11.8                    amd64        cuDNN runtime libraries\r\n",
      "ii  libcudnn8-dev                    8.9.0.131-1+cuda11.8                    amd64        cuDNN development libraries and headers\r\n",
      "hi  libnccl-dev                      2.15.5-1+cuda11.8                       amd64        NVIDIA Collective Communication Library (NCCL) Development Files\r\n",
      "hi  libnccl2                         2.15.5-1+cuda11.8                       amd64        NVIDIA Collective Communication Library (NCCL) Runtime\r\n"
     ]
    }
   ],
   "source": [
    "!dpkg -l | grep cud"
   ]
  }
 ],
 "metadata": {
  "kernelspec": {
   "display_name": "Python 3 (ipykernel)",
   "language": "python",
   "name": "python3"
  },
  "language_info": {
   "codemirror_mode": {
    "name": "ipython",
    "version": 3
   },
   "file_extension": ".py",
   "mimetype": "text/x-python",
   "name": "python",
   "nbconvert_exporter": "python",
   "pygments_lexer": "ipython3",
   "version": "3.10.6"
  }
 },
 "nbformat": 4,
 "nbformat_minor": 5
}
