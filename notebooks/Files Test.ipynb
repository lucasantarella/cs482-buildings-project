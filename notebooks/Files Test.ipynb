{
 "cells": [
  {
   "cell_type": "code",
   "execution_count": 5,
   "id": "129b0b0b",
   "metadata": {},
   "outputs": [
    {
     "name": "stdout",
     "output_type": "stream",
     "text": [
      "['/data/train/MUL-PanSharpen', '/data/train/RGB-PanSharpen', '/data/train/PAN', '/data/train/geojson', '/data/train/summaryData', '/data/train/MUL']\n",
      "['/data/test/PS-MS', '/data/test/PS-RGB', '/data/test/MS', '/data/test/PAN']\n"
     ]
    }
   ],
   "source": [
    "import glob\n",
    "\n",
    "print(glob.glob(\"/data/train/*\")) \n",
    "print(glob.glob(\"/data/test/*\")) "
   ]
  },
  {
   "cell_type": "code",
   "execution_count": null,
   "id": "4c23a6e5",
   "metadata": {},
   "outputs": [],
   "source": []
  }
 ],
 "metadata": {
  "kernelspec": {
   "display_name": "Python 3",
   "language": "python",
   "name": "python3"
  },
  "language_info": {
   "codemirror_mode": {
    "name": "ipython",
    "version": 3
   },
   "file_extension": ".py",
   "mimetype": "text/x-python",
   "name": "python",
   "nbconvert_exporter": "python",
   "pygments_lexer": "ipython3",
   "version": "3.8.5"
  }
 },
 "nbformat": 4,
 "nbformat_minor": 5
}
